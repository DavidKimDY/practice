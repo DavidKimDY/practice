{
 "cells": [
  {
   "cell_type": "code",
   "execution_count": 1,
   "metadata": {},
   "outputs": [
    {
     "name": "stderr",
     "output_type": "stream",
     "text": [
      "WARNING:root:The warning\n",
      "CRITICAL:root:The level of critical is higher than the level of warning\n"
     ]
    }
   ],
   "source": [
    "import logging\n",
    "\n",
    "'''\n",
    "DEBUG : Detailed infomation, typically of interest only when diagnosing problems\n",
    "\n",
    "INFO : Confirmation that things are working as expected.\n",
    "\n",
    "WARNING : An indication that something unexpected happened, or indicative of some problems in the near future (e.g 'disk space low').\n",
    "The software is working as expected.\n",
    "\n",
    "ERROR : Due to a more serious problem, the software has not been able to perform some function.\n",
    "\n",
    "CRITICAL : A serious error, indicating that the problem itself may be unable to continue running.\n",
    "\n",
    "'''\n",
    "\n",
    "logging.debug('The level of debug is lower than the level of warning')\n",
    "logging.warning('The warning')\n",
    "logging.critical('The level of critical is higher than the level of warning')"
   ]
  },
  {
   "cell_type": "code",
   "execution_count": 5,
   "metadata": {},
   "outputs": [],
   "source": [
    "logging.basicConfig(stream=sys.stdout ,filename='logging.log', level=logging.INFO, format='%(levelname)s:%(massege)s')\n",
    "\n",
    "class crawler():\n",
    "    def __init__(self, data):\n",
    "        self.url = 'www.core.today'\n",
    "        logging.info('news : {}'.format(data))\n",
    "\n",
    "ainews = crawler('AI news')\n",
    "business = crawler('business')"
   ]
  }
 ],
 "metadata": {
  "kernelspec": {
   "display_name": "Python 3",
   "language": "python",
   "name": "python3"
  },
  "language_info": {
   "codemirror_mode": {
    "name": "ipython",
    "version": 3
   },
   "file_extension": ".py",
   "mimetype": "text/x-python",
   "name": "python",
   "nbconvert_exporter": "python",
   "pygments_lexer": "ipython3",
   "version": "3.8.5"
  }
 },
 "nbformat": 4,
 "nbformat_minor": 4
}
